{
  "nbformat": 4,
  "nbformat_minor": 0,
  "metadata": {
    "colab": {
      "name": "phishing_websites_detection",
      "provenance": [],
      "collapsed_sections": [],
      "mount_file_id": "1mFM99JU4AWmDuRbUJFnh2VDyNLUo-590",
      "authorship_tag": "ABX9TyMWJc4SlZ7WHRA+n69iYMiu",
      "include_colab_link": true
    },
    "kernelspec": {
      "name": "python3",
      "display_name": "Python 3"
    },
    "language_info": {
      "name": "python"
    }
  },
  "cells": [
    {
      "cell_type": "markdown",
      "metadata": {
        "id": "view-in-github",
        "colab_type": "text"
      },
      "source": [
        "<a href=\"https://colab.research.google.com/github/chemsou-lmc/phishing-urls-classification/blob/main/phishing_websites_detection.ipynb\" target=\"_parent\"><img src=\"https://colab.research.google.com/assets/colab-badge.svg\" alt=\"Open In Colab\"/></a>"
      ]
    },
    {
      "cell_type": "markdown",
      "source": [
        "### **Import the libraries**"
      ],
      "metadata": {
        "id": "pbKrzY7GOfoN"
      }
    },
    {
      "cell_type": "code",
      "execution_count": 66,
      "metadata": {
        "id": "XHUj4ngiOUKp"
      },
      "outputs": [],
      "source": [
        "import pandas as pd\n",
        "import numpy as np\n",
        "\n",
        "import re\n",
        "import string\n",
        "\n",
        "from sklearn.model_selection import cross_validate\n",
        "from sklearn.model_selection import KFold\n",
        "from sklearn.model_selection import cross_validate\n",
        "from sklearn.model_selection import GridSearchCV\n",
        "\n",
        "from sklearn.feature_extraction.text import CountVectorizer\n",
        "from scipy.sparse import vstack\n",
        "from scipy.sparse import hstack\n",
        "\n",
        "from sklearn.linear_model import LogisticRegression\n",
        "from sklearn.neighbors import KNeighborsClassifier\n",
        "from sklearn.tree import DecisionTreeClassifier\n",
        "from sklearn.ensemble import RandomForestClassifier\n",
        "from sklearn.svm import SVC\n",
        "\n",
        "from sklearn.metrics import accuracy_score,confusion_matrix,classification_report\n",
        "from sklearn.metrics import roc_curve,plot_roc_curve, auc\n",
        "\n",
        "\n",
        "import matplotlib.pyplot as plt\n",
        "import seaborn as sns"
      ]
    },
    {
      "cell_type": "markdown",
      "source": [
        "### **Read the dataset**"
      ],
      "metadata": {
        "id": "taIKWYCrPNMb"
      }
    },
    {
      "cell_type": "code",
      "source": [
        "df = pd.read_csv('/content/drive/MyDrive/Projects/phishing_websites_dataset.csv')"
      ],
      "metadata": {
        "id": "u_Kyc7LQPMDM"
      },
      "execution_count": 2,
      "outputs": []
    },
    {
      "cell_type": "code",
      "source": [
        "df.head(5)"
      ],
      "metadata": {
        "colab": {
          "base_uri": "https://localhost:8080/",
          "height": 206
        },
        "id": "N_pVfJHDPpmO",
        "outputId": "ad7348da-8322-4441-9e8a-a71bd774a547"
      },
      "execution_count": 3,
      "outputs": [
        {
          "output_type": "execute_result",
          "data": {
            "text/plain": [
              "                                              domain   ranking  isIp  valid  \\\n",
              "0                               www.voting-yahoo.com  10000000     0      0   \n",
              "1         www.zvon.org/xxl/WSDL1.1/Output/index.html    194914     0      1   \n",
              "2  tecportais.com/file-security-update-infonfmati...  10000000     0      0   \n",
              "3                bima.astro.umd.edu/nemo/linuxastro/      7001     0      0   \n",
              "4  huarui-tec.com/js/?us.battle.net/login/en/?ref...  10000000     0      1   \n",
              "\n",
              "   activeDuration  urlLen  is@  isredirect  haveDash  domainLen  \\\n",
              "0               0      20    0           0         1         20   \n",
              "1            7305      42    0           0         0         12   \n",
              "2               0     155    0           0         0         14   \n",
              "3               0      35    0           0         0         18   \n",
              "4             730      79    0           0         1         14   \n",
              "\n",
              "   nosOfSubdomain  label  \n",
              "0               2      1  \n",
              "1               2      0  \n",
              "2               1      1  \n",
              "3               3      0  \n",
              "4               1      1  "
            ],
            "text/html": [
              "\n",
              "  <div id=\"df-9b769672-ecf6-4c1c-982a-d6feb13f77ca\">\n",
              "    <div class=\"colab-df-container\">\n",
              "      <div>\n",
              "<style scoped>\n",
              "    .dataframe tbody tr th:only-of-type {\n",
              "        vertical-align: middle;\n",
              "    }\n",
              "\n",
              "    .dataframe tbody tr th {\n",
              "        vertical-align: top;\n",
              "    }\n",
              "\n",
              "    .dataframe thead th {\n",
              "        text-align: right;\n",
              "    }\n",
              "</style>\n",
              "<table border=\"1\" class=\"dataframe\">\n",
              "  <thead>\n",
              "    <tr style=\"text-align: right;\">\n",
              "      <th></th>\n",
              "      <th>domain</th>\n",
              "      <th>ranking</th>\n",
              "      <th>isIp</th>\n",
              "      <th>valid</th>\n",
              "      <th>activeDuration</th>\n",
              "      <th>urlLen</th>\n",
              "      <th>is@</th>\n",
              "      <th>isredirect</th>\n",
              "      <th>haveDash</th>\n",
              "      <th>domainLen</th>\n",
              "      <th>nosOfSubdomain</th>\n",
              "      <th>label</th>\n",
              "    </tr>\n",
              "  </thead>\n",
              "  <tbody>\n",
              "    <tr>\n",
              "      <th>0</th>\n",
              "      <td>www.voting-yahoo.com</td>\n",
              "      <td>10000000</td>\n",
              "      <td>0</td>\n",
              "      <td>0</td>\n",
              "      <td>0</td>\n",
              "      <td>20</td>\n",
              "      <td>0</td>\n",
              "      <td>0</td>\n",
              "      <td>1</td>\n",
              "      <td>20</td>\n",
              "      <td>2</td>\n",
              "      <td>1</td>\n",
              "    </tr>\n",
              "    <tr>\n",
              "      <th>1</th>\n",
              "      <td>www.zvon.org/xxl/WSDL1.1/Output/index.html</td>\n",
              "      <td>194914</td>\n",
              "      <td>0</td>\n",
              "      <td>1</td>\n",
              "      <td>7305</td>\n",
              "      <td>42</td>\n",
              "      <td>0</td>\n",
              "      <td>0</td>\n",
              "      <td>0</td>\n",
              "      <td>12</td>\n",
              "      <td>2</td>\n",
              "      <td>0</td>\n",
              "    </tr>\n",
              "    <tr>\n",
              "      <th>2</th>\n",
              "      <td>tecportais.com/file-security-update-infonfmati...</td>\n",
              "      <td>10000000</td>\n",
              "      <td>0</td>\n",
              "      <td>0</td>\n",
              "      <td>0</td>\n",
              "      <td>155</td>\n",
              "      <td>0</td>\n",
              "      <td>0</td>\n",
              "      <td>0</td>\n",
              "      <td>14</td>\n",
              "      <td>1</td>\n",
              "      <td>1</td>\n",
              "    </tr>\n",
              "    <tr>\n",
              "      <th>3</th>\n",
              "      <td>bima.astro.umd.edu/nemo/linuxastro/</td>\n",
              "      <td>7001</td>\n",
              "      <td>0</td>\n",
              "      <td>0</td>\n",
              "      <td>0</td>\n",
              "      <td>35</td>\n",
              "      <td>0</td>\n",
              "      <td>0</td>\n",
              "      <td>0</td>\n",
              "      <td>18</td>\n",
              "      <td>3</td>\n",
              "      <td>0</td>\n",
              "    </tr>\n",
              "    <tr>\n",
              "      <th>4</th>\n",
              "      <td>huarui-tec.com/js/?us.battle.net/login/en/?ref...</td>\n",
              "      <td>10000000</td>\n",
              "      <td>0</td>\n",
              "      <td>1</td>\n",
              "      <td>730</td>\n",
              "      <td>79</td>\n",
              "      <td>0</td>\n",
              "      <td>0</td>\n",
              "      <td>1</td>\n",
              "      <td>14</td>\n",
              "      <td>1</td>\n",
              "      <td>1</td>\n",
              "    </tr>\n",
              "  </tbody>\n",
              "</table>\n",
              "</div>\n",
              "      <button class=\"colab-df-convert\" onclick=\"convertToInteractive('df-9b769672-ecf6-4c1c-982a-d6feb13f77ca')\"\n",
              "              title=\"Convert this dataframe to an interactive table.\"\n",
              "              style=\"display:none;\">\n",
              "        \n",
              "  <svg xmlns=\"http://www.w3.org/2000/svg\" height=\"24px\"viewBox=\"0 0 24 24\"\n",
              "       width=\"24px\">\n",
              "    <path d=\"M0 0h24v24H0V0z\" fill=\"none\"/>\n",
              "    <path d=\"M18.56 5.44l.94 2.06.94-2.06 2.06-.94-2.06-.94-.94-2.06-.94 2.06-2.06.94zm-11 1L8.5 8.5l.94-2.06 2.06-.94-2.06-.94L8.5 2.5l-.94 2.06-2.06.94zm10 10l.94 2.06.94-2.06 2.06-.94-2.06-.94-.94-2.06-.94 2.06-2.06.94z\"/><path d=\"M17.41 7.96l-1.37-1.37c-.4-.4-.92-.59-1.43-.59-.52 0-1.04.2-1.43.59L10.3 9.45l-7.72 7.72c-.78.78-.78 2.05 0 2.83L4 21.41c.39.39.9.59 1.41.59.51 0 1.02-.2 1.41-.59l7.78-7.78 2.81-2.81c.8-.78.8-2.07 0-2.86zM5.41 20L4 18.59l7.72-7.72 1.47 1.35L5.41 20z\"/>\n",
              "  </svg>\n",
              "      </button>\n",
              "      \n",
              "  <style>\n",
              "    .colab-df-container {\n",
              "      display:flex;\n",
              "      flex-wrap:wrap;\n",
              "      gap: 12px;\n",
              "    }\n",
              "\n",
              "    .colab-df-convert {\n",
              "      background-color: #E8F0FE;\n",
              "      border: none;\n",
              "      border-radius: 50%;\n",
              "      cursor: pointer;\n",
              "      display: none;\n",
              "      fill: #1967D2;\n",
              "      height: 32px;\n",
              "      padding: 0 0 0 0;\n",
              "      width: 32px;\n",
              "    }\n",
              "\n",
              "    .colab-df-convert:hover {\n",
              "      background-color: #E2EBFA;\n",
              "      box-shadow: 0px 1px 2px rgba(60, 64, 67, 0.3), 0px 1px 3px 1px rgba(60, 64, 67, 0.15);\n",
              "      fill: #174EA6;\n",
              "    }\n",
              "\n",
              "    [theme=dark] .colab-df-convert {\n",
              "      background-color: #3B4455;\n",
              "      fill: #D2E3FC;\n",
              "    }\n",
              "\n",
              "    [theme=dark] .colab-df-convert:hover {\n",
              "      background-color: #434B5C;\n",
              "      box-shadow: 0px 1px 3px 1px rgba(0, 0, 0, 0.15);\n",
              "      filter: drop-shadow(0px 1px 2px rgba(0, 0, 0, 0.3));\n",
              "      fill: #FFFFFF;\n",
              "    }\n",
              "  </style>\n",
              "\n",
              "      <script>\n",
              "        const buttonEl =\n",
              "          document.querySelector('#df-9b769672-ecf6-4c1c-982a-d6feb13f77ca button.colab-df-convert');\n",
              "        buttonEl.style.display =\n",
              "          google.colab.kernel.accessAllowed ? 'block' : 'none';\n",
              "\n",
              "        async function convertToInteractive(key) {\n",
              "          const element = document.querySelector('#df-9b769672-ecf6-4c1c-982a-d6feb13f77ca');\n",
              "          const dataTable =\n",
              "            await google.colab.kernel.invokeFunction('convertToInteractive',\n",
              "                                                     [key], {});\n",
              "          if (!dataTable) return;\n",
              "\n",
              "          const docLinkHtml = 'Like what you see? Visit the ' +\n",
              "            '<a target=\"_blank\" href=https://colab.research.google.com/notebooks/data_table.ipynb>data table notebook</a>'\n",
              "            + ' to learn more about interactive tables.';\n",
              "          element.innerHTML = '';\n",
              "          dataTable['output_type'] = 'display_data';\n",
              "          await google.colab.output.renderOutput(dataTable, element);\n",
              "          const docLink = document.createElement('div');\n",
              "          docLink.innerHTML = docLinkHtml;\n",
              "          element.appendChild(docLink);\n",
              "        }\n",
              "      </script>\n",
              "    </div>\n",
              "  </div>\n",
              "  "
            ]
          },
          "metadata": {},
          "execution_count": 3
        }
      ]
    },
    {
      "cell_type": "code",
      "source": [
        "df.tail(5)"
      ],
      "metadata": {
        "colab": {
          "base_uri": "https://localhost:8080/",
          "height": 250
        },
        "id": "kMHXsH2RT2wl",
        "outputId": "a8cf6bff-c93e-44d9-ec3e-41acd3091b39"
      },
      "execution_count": 4,
      "outputs": [
        {
          "output_type": "execute_result",
          "data": {
            "text/plain": [
              "                                                  domain   ranking  isIp  \\\n",
              "95905                       www.freewebs.com/ryanrules2/      5001     0   \n",
              "95906    www.ireland-information.com/freecelticfonts.htm    230251     0   \n",
              "95907        www.clubtaunus.soroptimist.de/img/pro/e.php  10000000     0   \n",
              "95908          www.askmen.com/sports/business/index.html      2008     0   \n",
              "95909  xosothudo.com.vn/paypal.co.il/paypal.co.il.cgi...    771840     0   \n",
              "\n",
              "       valid  activeDuration  urlLen  is@  isredirect  haveDash  domainLen  \\\n",
              "95905      1            8035      28    0           0         0         16   \n",
              "95906      1            8400      47    0           0         1         27   \n",
              "95907      0               0      43    0           0         0         29   \n",
              "95908      1            9862      41    0           0         0         14   \n",
              "95909      0               0     323    0           0         0         16   \n",
              "\n",
              "       nosOfSubdomain  label  \n",
              "95905               2      0  \n",
              "95906               2      0  \n",
              "95907               3      1  \n",
              "95908               2      0  \n",
              "95909               2      1  "
            ],
            "text/html": [
              "\n",
              "  <div id=\"df-2b0d4fb1-ce9f-4a52-a676-bef874699f35\">\n",
              "    <div class=\"colab-df-container\">\n",
              "      <div>\n",
              "<style scoped>\n",
              "    .dataframe tbody tr th:only-of-type {\n",
              "        vertical-align: middle;\n",
              "    }\n",
              "\n",
              "    .dataframe tbody tr th {\n",
              "        vertical-align: top;\n",
              "    }\n",
              "\n",
              "    .dataframe thead th {\n",
              "        text-align: right;\n",
              "    }\n",
              "</style>\n",
              "<table border=\"1\" class=\"dataframe\">\n",
              "  <thead>\n",
              "    <tr style=\"text-align: right;\">\n",
              "      <th></th>\n",
              "      <th>domain</th>\n",
              "      <th>ranking</th>\n",
              "      <th>isIp</th>\n",
              "      <th>valid</th>\n",
              "      <th>activeDuration</th>\n",
              "      <th>urlLen</th>\n",
              "      <th>is@</th>\n",
              "      <th>isredirect</th>\n",
              "      <th>haveDash</th>\n",
              "      <th>domainLen</th>\n",
              "      <th>nosOfSubdomain</th>\n",
              "      <th>label</th>\n",
              "    </tr>\n",
              "  </thead>\n",
              "  <tbody>\n",
              "    <tr>\n",
              "      <th>95905</th>\n",
              "      <td>www.freewebs.com/ryanrules2/</td>\n",
              "      <td>5001</td>\n",
              "      <td>0</td>\n",
              "      <td>1</td>\n",
              "      <td>8035</td>\n",
              "      <td>28</td>\n",
              "      <td>0</td>\n",
              "      <td>0</td>\n",
              "      <td>0</td>\n",
              "      <td>16</td>\n",
              "      <td>2</td>\n",
              "      <td>0</td>\n",
              "    </tr>\n",
              "    <tr>\n",
              "      <th>95906</th>\n",
              "      <td>www.ireland-information.com/freecelticfonts.htm</td>\n",
              "      <td>230251</td>\n",
              "      <td>0</td>\n",
              "      <td>1</td>\n",
              "      <td>8400</td>\n",
              "      <td>47</td>\n",
              "      <td>0</td>\n",
              "      <td>0</td>\n",
              "      <td>1</td>\n",
              "      <td>27</td>\n",
              "      <td>2</td>\n",
              "      <td>0</td>\n",
              "    </tr>\n",
              "    <tr>\n",
              "      <th>95907</th>\n",
              "      <td>www.clubtaunus.soroptimist.de/img/pro/e.php</td>\n",
              "      <td>10000000</td>\n",
              "      <td>0</td>\n",
              "      <td>0</td>\n",
              "      <td>0</td>\n",
              "      <td>43</td>\n",
              "      <td>0</td>\n",
              "      <td>0</td>\n",
              "      <td>0</td>\n",
              "      <td>29</td>\n",
              "      <td>3</td>\n",
              "      <td>1</td>\n",
              "    </tr>\n",
              "    <tr>\n",
              "      <th>95908</th>\n",
              "      <td>www.askmen.com/sports/business/index.html</td>\n",
              "      <td>2008</td>\n",
              "      <td>0</td>\n",
              "      <td>1</td>\n",
              "      <td>9862</td>\n",
              "      <td>41</td>\n",
              "      <td>0</td>\n",
              "      <td>0</td>\n",
              "      <td>0</td>\n",
              "      <td>14</td>\n",
              "      <td>2</td>\n",
              "      <td>0</td>\n",
              "    </tr>\n",
              "    <tr>\n",
              "      <th>95909</th>\n",
              "      <td>xosothudo.com.vn/paypal.co.il/paypal.co.il.cgi...</td>\n",
              "      <td>771840</td>\n",
              "      <td>0</td>\n",
              "      <td>0</td>\n",
              "      <td>0</td>\n",
              "      <td>323</td>\n",
              "      <td>0</td>\n",
              "      <td>0</td>\n",
              "      <td>0</td>\n",
              "      <td>16</td>\n",
              "      <td>2</td>\n",
              "      <td>1</td>\n",
              "    </tr>\n",
              "  </tbody>\n",
              "</table>\n",
              "</div>\n",
              "      <button class=\"colab-df-convert\" onclick=\"convertToInteractive('df-2b0d4fb1-ce9f-4a52-a676-bef874699f35')\"\n",
              "              title=\"Convert this dataframe to an interactive table.\"\n",
              "              style=\"display:none;\">\n",
              "        \n",
              "  <svg xmlns=\"http://www.w3.org/2000/svg\" height=\"24px\"viewBox=\"0 0 24 24\"\n",
              "       width=\"24px\">\n",
              "    <path d=\"M0 0h24v24H0V0z\" fill=\"none\"/>\n",
              "    <path d=\"M18.56 5.44l.94 2.06.94-2.06 2.06-.94-2.06-.94-.94-2.06-.94 2.06-2.06.94zm-11 1L8.5 8.5l.94-2.06 2.06-.94-2.06-.94L8.5 2.5l-.94 2.06-2.06.94zm10 10l.94 2.06.94-2.06 2.06-.94-2.06-.94-.94-2.06-.94 2.06-2.06.94z\"/><path d=\"M17.41 7.96l-1.37-1.37c-.4-.4-.92-.59-1.43-.59-.52 0-1.04.2-1.43.59L10.3 9.45l-7.72 7.72c-.78.78-.78 2.05 0 2.83L4 21.41c.39.39.9.59 1.41.59.51 0 1.02-.2 1.41-.59l7.78-7.78 2.81-2.81c.8-.78.8-2.07 0-2.86zM5.41 20L4 18.59l7.72-7.72 1.47 1.35L5.41 20z\"/>\n",
              "  </svg>\n",
              "      </button>\n",
              "      \n",
              "  <style>\n",
              "    .colab-df-container {\n",
              "      display:flex;\n",
              "      flex-wrap:wrap;\n",
              "      gap: 12px;\n",
              "    }\n",
              "\n",
              "    .colab-df-convert {\n",
              "      background-color: #E8F0FE;\n",
              "      border: none;\n",
              "      border-radius: 50%;\n",
              "      cursor: pointer;\n",
              "      display: none;\n",
              "      fill: #1967D2;\n",
              "      height: 32px;\n",
              "      padding: 0 0 0 0;\n",
              "      width: 32px;\n",
              "    }\n",
              "\n",
              "    .colab-df-convert:hover {\n",
              "      background-color: #E2EBFA;\n",
              "      box-shadow: 0px 1px 2px rgba(60, 64, 67, 0.3), 0px 1px 3px 1px rgba(60, 64, 67, 0.15);\n",
              "      fill: #174EA6;\n",
              "    }\n",
              "\n",
              "    [theme=dark] .colab-df-convert {\n",
              "      background-color: #3B4455;\n",
              "      fill: #D2E3FC;\n",
              "    }\n",
              "\n",
              "    [theme=dark] .colab-df-convert:hover {\n",
              "      background-color: #434B5C;\n",
              "      box-shadow: 0px 1px 3px 1px rgba(0, 0, 0, 0.15);\n",
              "      filter: drop-shadow(0px 1px 2px rgba(0, 0, 0, 0.3));\n",
              "      fill: #FFFFFF;\n",
              "    }\n",
              "  </style>\n",
              "\n",
              "      <script>\n",
              "        const buttonEl =\n",
              "          document.querySelector('#df-2b0d4fb1-ce9f-4a52-a676-bef874699f35 button.colab-df-convert');\n",
              "        buttonEl.style.display =\n",
              "          google.colab.kernel.accessAllowed ? 'block' : 'none';\n",
              "\n",
              "        async function convertToInteractive(key) {\n",
              "          const element = document.querySelector('#df-2b0d4fb1-ce9f-4a52-a676-bef874699f35');\n",
              "          const dataTable =\n",
              "            await google.colab.kernel.invokeFunction('convertToInteractive',\n",
              "                                                     [key], {});\n",
              "          if (!dataTable) return;\n",
              "\n",
              "          const docLinkHtml = 'Like what you see? Visit the ' +\n",
              "            '<a target=\"_blank\" href=https://colab.research.google.com/notebooks/data_table.ipynb>data table notebook</a>'\n",
              "            + ' to learn more about interactive tables.';\n",
              "          element.innerHTML = '';\n",
              "          dataTable['output_type'] = 'display_data';\n",
              "          await google.colab.output.renderOutput(dataTable, element);\n",
              "          const docLink = document.createElement('div');\n",
              "          docLink.innerHTML = docLinkHtml;\n",
              "          element.appendChild(docLink);\n",
              "        }\n",
              "      </script>\n",
              "    </div>\n",
              "  </div>\n",
              "  "
            ]
          },
          "metadata": {},
          "execution_count": 4
        }
      ]
    },
    {
      "cell_type": "code",
      "source": [
        "df.columns"
      ],
      "metadata": {
        "id": "4Nl0_J0Q_GSt",
        "colab": {
          "base_uri": "https://localhost:8080/"
        },
        "outputId": "103ce8a0-bb9e-48df-d5da-d22e87b4e305"
      },
      "execution_count": 5,
      "outputs": [
        {
          "output_type": "execute_result",
          "data": {
            "text/plain": [
              "Index(['domain', 'ranking', 'isIp', 'valid', 'activeDuration', 'urlLen', 'is@',\n",
              "       'isredirect', 'haveDash', 'domainLen', 'nosOfSubdomain', 'label'],\n",
              "      dtype='object')"
            ]
          },
          "metadata": {},
          "execution_count": 5
        }
      ]
    },
    {
      "cell_type": "code",
      "source": [
        "plt.figure(figsize=(15,13))\n",
        "sns.heatmap(df.corr())\n",
        "plt.show()"
      ],
      "metadata": {
        "colab": {
          "base_uri": "https://localhost:8080/",
          "height": 834
        },
        "id": "YnNkJ14FxrzD",
        "outputId": "4fc359b3-bf42-41af-abc2-5524e6350d36"
      },
      "execution_count": 6,
      "outputs": [
        {
          "output_type": "display_data",
          "data": {
            "text/plain": [
              "<Figure size 1080x936 with 2 Axes>"
            ],
            "image/png": "[encoded data removed]"
          },
          "metadata": {
            "needs_background": "light"
          }
        }
      ]
    },
    {
      "cell_type": "code",
      "source": [
        "#Checking for null values\n",
        "df.isna().any()"
      ],
      "metadata": {
        "colab": {
          "base_uri": "https://localhost:8080/"
        },
        "id": "i-Z23yJbQA-T",
        "outputId": "bb587128-54ef-4384-a7dd-ec59a3a4d3f5"
      },
      "execution_count": 7,
      "outputs": [
        {
          "output_type": "execute_result",
          "data": {
            "text/plain": [
              "domain            False\n",
              "ranking           False\n",
              "isIp              False\n",
              "valid             False\n",
              "activeDuration    False\n",
              "urlLen            False\n",
              "is@               False\n",
              "isredirect        False\n",
              "haveDash          False\n",
              "domainLen         False\n",
              "nosOfSubdomain    False\n",
              "label             False\n",
              "dtype: bool"
            ]
          },
          "metadata": {},
          "execution_count": 7
        }
      ]
    },
    {
      "cell_type": "markdown",
      "source": [
        "# **the distribution of dataset**"
      ],
      "metadata": {
        "id": "2NSfRI6Gv5Ql"
      }
    },
    {
      "cell_type": "code",
      "source": [
        "print(df['label'].value_counts())\n",
        "print(df.shape)"
      ],
      "metadata": {
        "colab": {
          "base_uri": "https://localhost:8080/"
        },
        "id": "Rpe5tUwzQP8j",
        "outputId": "172ea574-104b-4f9a-948d-01fcf0dac112"
      },
      "execution_count": 8,
      "outputs": [
        {
          "output_type": "stream",
          "name": "stdout",
          "text": [
            "1    55914\n",
            "0    39996\n",
            "Name: label, dtype: int64\n",
            "(95910, 12)\n"
          ]
        }
      ]
    },
    {
      "cell_type": "code",
      "source": [
        "sns.countplot(data=df, x=\"label\")\n",
        "plt.show()"
      ],
      "metadata": {
        "colab": {
          "base_uri": "https://localhost:8080/",
          "height": 279
        },
        "id": "SS0tfh33lxOK",
        "outputId": "047b4f6f-f77d-4f49-9d86-4331a97a8381"
      },
      "execution_count": 9,
      "outputs": [
        {
          "output_type": "display_data",
          "data": {
            "text/plain": [
              "<Figure size 432x288 with 1 Axes>"
            ],
            "image/png": "[encoded data removed]"
          },
          "metadata": {
            "needs_background": "light"
          }
        }
      ]
    },
    {
      "cell_type": "code",
      "source": [
        "df_x = df.drop(['label'], axis=1)\n",
        "df_y = df['label']"
      ],
      "metadata": {
        "id": "fONrlO42Q9GV"
      },
      "execution_count": 10,
      "outputs": []
    },
    {
      "cell_type": "markdown",
      "source": [
        "### **FEATURE SELECTION**"
      ],
      "metadata": {
        "id": "SkWK3YMHbrVh"
      }
    },
    {
      "cell_type": "code",
      "source": [
        "#Dividing the dataset into training( 60%) and testing (40%) sets\n",
        "\n",
        "train_df_x = df_x[:57546]\n",
        "train_df_y = df_y[:57546]\n",
        "\n",
        "test_df_x = df_x[38364:]\n",
        "test_df_y = df_y[38364:]\n",
        "\n",
        "val_df_x = df_x[38364:57546]\n",
        "val_df_y = df_y[38364:57546]"
      ],
      "metadata": {
        "id": "bN9X1aSxQ_CF"
      },
      "execution_count": 11,
      "outputs": []
    },
    {
      "cell_type": "code",
      "source": [
        "train_domain = train_df_x['domain']\n",
        "val_domain = val_df_x['domain']\n",
        "test_domain = test_df_x['domain']"
      ],
      "metadata": {
        "id": "mqjIqKVBRDYv"
      },
      "execution_count": 12,
      "outputs": []
    },
    {
      "cell_type": "code",
      "source": [
        "#Drop 'domain' from dataset since we are converting it into bag of words\n",
        "\n",
        "train_df_x = train_df_x.drop(['domain'], axis=1)\n",
        "val_df_x = val_df_x.drop(['domain'], axis=1)\n",
        "test_df_x = test_df_x.drop(['domain'], axis=1)"
      ],
      "metadata": {
        "id": "AyDRabQtRIAc"
      },
      "execution_count": 13,
      "outputs": []
    },
    {
      "cell_type": "code",
      "source": [
        "print(train_df_x.shape, val_df_x.shape, test_df_x.shape)\n",
        "print(train_df_y.shape, val_df_y.shape, test_df_y.shape)"
      ],
      "metadata": {
        "colab": {
          "base_uri": "https://localhost:8080/"
        },
        "id": "nxxmszACR0Nd",
        "outputId": "39fa9164-e5ee-491a-84a3-1fcf339439e1"
      },
      "execution_count": 14,
      "outputs": [
        {
          "output_type": "stream",
          "name": "stdout",
          "text": [
            "(57546, 10) (19182, 10) (57546, 10)\n",
            "(57546,) (19182,) (57546,)\n"
          ]
        }
      ]
    },
    {
      "cell_type": "markdown",
      "source": [
        "### **FEATURE EXTRACTION**"
      ],
      "metadata": {
        "id": "Jgg9mThEbUEa"
      }
    },
    {
      "cell_type": "code",
      "source": [
        "count_vect = CountVectorizer()\n",
        "X_train_bow = count_vect.fit_transform(train_domain)\n",
        "X_val_bow = count_vect.transform(val_domain)\n",
        "X_test_bow = count_vect.transform(test_domain)\n",
        "feature_names_bow = count_vect.get_feature_names()\n",
        "print(X_train_bow.shape)\n",
        "print(X_val_bow.shape)\n",
        "print(X_test_bow.shape)"
      ],
      "metadata": {
        "colab": {
          "base_uri": "https://localhost:8080/"
        },
        "id": "xpYjjownR5NZ",
        "outputId": "59f06c37-c124-4145-9413-fda5ba54aa4e"
      },
      "execution_count": 15,
      "outputs": [
        {
          "output_type": "stream",
          "name": "stdout",
          "text": [
            "(57546, 72611)\n",
            "(19182, 72611)\n",
            "(57546, 72611)\n"
          ]
        },
        {
          "output_type": "stream",
          "name": "stderr",
          "text": [
            "/usr/local/lib/python3.7/dist-packages/sklearn/utils/deprecation.py:87: FutureWarning: Function get_feature_names is deprecated; get_feature_names is deprecated in 1.0 and will be removed in 1.2. Please use get_feature_names_out instead.\n",
            "  warnings.warn(msg, category=FutureWarning)\n"
          ]
        }
      ]
    },
    {
      "cell_type": "code",
      "source": [
        "#Stacking the BoW features and other features from dataset\n",
        "\n",
        "bow_final_train_x = hstack((X_train_bow, train_df_x))\n",
        "bow_final_val_x = hstack((X_val_bow, val_df_x))\n",
        "bow_final_test_x = hstack((X_test_bow, test_df_x))"
      ],
      "metadata": {
        "id": "uEtx9L6STFyk"
      },
      "execution_count": 16,
      "outputs": []
    },
    {
      "cell_type": "code",
      "source": [
        "\n",
        "bow_final_train_x.shape\n",
        "bow_final_val_x.shape\n",
        "bow_final_test_x.shape"
      ],
      "metadata": {
        "colab": {
          "base_uri": "https://localhost:8080/"
        },
        "id": "3iivW6jOTHbP",
        "outputId": "49a53588-9c29-4a9e-ea45-be8c98da65b5"
      },
      "execution_count": 17,
      "outputs": [
        {
          "output_type": "execute_result",
          "data": {
            "text/plain": [
              "(57546, 72621)"
            ]
          },
          "metadata": {},
          "execution_count": 17
        }
      ]
    },
    {
      "cell_type": "code",
      "source": [
        "X_train_val = vstack((bow_final_train_x, bow_final_val_x))\n",
        "Y_train_val = pd.concat([train_df_y, val_df_y], axis= 0)"
      ],
      "metadata": {
        "id": "dPZchlreTpLS"
      },
      "execution_count": 18,
      "outputs": []
    },
    {
      "cell_type": "markdown",
      "source": [
        "## **MODELS & TRAINING**"
      ],
      "metadata": {
        "id": "qg69kqjvb4oM"
      }
    },
    {
      "cell_type": "code",
      "source": [
        "scoring = {'accuracy': 'accuracy',\n",
        "           'recall': 'recall',\n",
        "           'precision': 'precision',\n",
        "           'f1': 'f1'}\n",
        "fold_count=10"
      ],
      "metadata": {
        "id": "_jV_XvDtVUlZ"
      },
      "execution_count": 19,
      "outputs": []
    },
    {
      "cell_type": "code",
      "source": [
        "def mean_score(scoring):\n",
        "    return {i:j.mean() for i,j in scoring.items()}"
      ],
      "metadata": {
        "id": "cBGOJcpYe_lE"
      },
      "execution_count": 20,
      "outputs": []
    },
    {
      "cell_type": "markdown",
      "source": [
        "# **1-Logistic Regression**"
      ],
      "metadata": {
        "id": "l54pItNqyZRu"
      }
    },
    {
      "cell_type": "code",
      "source": [
        "logreg=LogisticRegression()\n",
        "model_1=logreg.fit(X_train_val,Y_train_val)"
      ],
      "metadata": {
        "id": "qO_aP_VCyZt0"
      },
      "execution_count": 21,
      "outputs": []
    },
    {
      "cell_type": "code",
      "source": [
        "logreg_predict= model_1.predict(bow_final_test_x)"
      ],
      "metadata": {
        "id": "vxrBP6YcyadR"
      },
      "execution_count": 22,
      "outputs": []
    },
    {
      "cell_type": "code",
      "source": [
        "print('The accuracy of Logistic Regression Model is : ', 100.0 * accuracy_score(logreg_predict,test_df_y))"
      ],
      "metadata": {
        "colab": {
          "base_uri": "https://localhost:8080/"
        },
        "id": "DUtxmJrnyaTt",
        "outputId": "b7da7c3d-aeec-42db-f62b-1a2ab4251e37"
      },
      "execution_count": 45,
      "outputs": [
        {
          "output_type": "stream",
          "name": "stdout",
          "text": [
            "The accuracy of Logistic Regression Model is :  72.54022868661593\n"
          ]
        }
      ]
    },
    {
      "cell_type": "code",
      "source": [
        "print(classification_report(logreg_predict,test_df_y))"
      ],
      "metadata": {
        "colab": {
          "base_uri": "https://localhost:8080/"
        },
        "id": "h0i2lXKTyaH7",
        "outputId": "1cd9d14f-6801-4037-a12c-32c917f9f38f"
      },
      "execution_count": 24,
      "outputs": [
        {
          "output_type": "stream",
          "name": "stdout",
          "text": [
            "              precision    recall  f1-score   support\n",
            "\n",
            "           0       0.55      0.72      0.62     18140\n",
            "           1       0.85      0.73      0.78     39406\n",
            "\n",
            "    accuracy                           0.73     57546\n",
            "   macro avg       0.70      0.72      0.70     57546\n",
            "weighted avg       0.76      0.73      0.73     57546\n",
            "\n"
          ]
        }
      ]
    },
    {
      "cell_type": "code",
      "source": [
        "plot_roc_curve(model_1,bow_final_test_x, test_df_y)"
      ],
      "metadata": {
        "colab": {
          "base_uri": "https://localhost:8080/",
          "height": 351
        },
        "id": "2xb50fvA-wmK",
        "outputId": "05888205-a346-4aa1-aefa-d8f1021adc3f"
      },
      "execution_count": 60,
      "outputs": [
        {
          "output_type": "stream",
          "name": "stderr",
          "text": [
            "/usr/local/lib/python3.7/dist-packages/sklearn/utils/deprecation.py:87: FutureWarning: Function plot_roc_curve is deprecated; Function :func:`plot_roc_curve` is deprecated in 1.0 and will be removed in 1.2. Use one of the class methods: :meth:`sklearn.metric.RocCurveDisplay.from_predictions` or :meth:`sklearn.metric.RocCurveDisplay.from_estimator`.\n",
            "  warnings.warn(msg, category=FutureWarning)\n"
          ]
        },
        {
          "output_type": "execute_result",
          "data": {
            "text/plain": [
              "<sklearn.metrics._plot.roc_curve.RocCurveDisplay at 0x7f930fa40210>"
            ]
          },
          "metadata": {},
          "execution_count": 60
        },
        {
          "output_type": "display_data",
          "data": {
            "text/plain": [
              "<Figure size 432x288 with 1 Axes>"
            ],
            "image/png": "[encoded data removed]"
          },
          "metadata": {
            "needs_background": "light"
          }
        }
      ]
    },
    {
      "cell_type": "markdown",
      "source": [
        "# **2-KNN**"
      ],
      "metadata": {
        "id": "z3XhA-8DyOQG"
      }
    },
    {
      "cell_type": "code",
      "source": [
        "knn=KNeighborsClassifier(n_neighbors=1)\n",
        "model_2= knn.fit(X_train_val,Y_train_val)"
      ],
      "metadata": {
        "id": "qDgMghyfyOpT"
      },
      "execution_count": 25,
      "outputs": []
    },
    {
      "cell_type": "code",
      "source": [
        "knn_predict=model_2.predict(bow_final_test_x)"
      ],
      "metadata": {
        "id": "PY14ImD7yVa8"
      },
      "execution_count": 26,
      "outputs": []
    },
    {
      "cell_type": "code",
      "source": [
        "print('The accuracy of KNN Model is: ', 100.0 * accuracy_score(knn_predict,test_df_y))"
      ],
      "metadata": {
        "colab": {
          "base_uri": "https://localhost:8080/"
        },
        "id": "R9TQBrw4yWM9",
        "outputId": "d7a0fca5-7b2e-4e8c-b806-fb9631a68e1d"
      },
      "execution_count": 28,
      "outputs": [
        {
          "output_type": "stream",
          "name": "stdout",
          "text": [
            "The accuracy of KNN Model is:  97.25263267646753\n"
          ]
        }
      ]
    },
    {
      "cell_type": "code",
      "source": [
        "print(classification_report(test_df_y,knn_predict))"
      ],
      "metadata": {
        "colab": {
          "base_uri": "https://localhost:8080/"
        },
        "id": "XX75TPnjyWpK",
        "outputId": "b7efa066-e090-4e1d-ad4c-cb9d2c5c4bd9"
      },
      "execution_count": 30,
      "outputs": [
        {
          "output_type": "stream",
          "name": "stdout",
          "text": [
            "              precision    recall  f1-score   support\n",
            "\n",
            "           0       0.97      0.97      0.97     23920\n",
            "           1       0.98      0.98      0.98     33626\n",
            "\n",
            "    accuracy                           0.97     57546\n",
            "   macro avg       0.97      0.97      0.97     57546\n",
            "weighted avg       0.97      0.97      0.97     57546\n",
            "\n"
          ]
        }
      ]
    },
    {
      "cell_type": "code",
      "source": [
        "plot_roc_curve(model_2,bow_final_test_x, test_df_y)"
      ],
      "metadata": {
        "colab": {
          "base_uri": "https://localhost:8080/",
          "height": 351
        },
        "id": "0yy2qdFoACKc",
        "outputId": "d7af0fe2-468f-47c2-ee5f-0d96e8ea02b8"
      },
      "execution_count": 61,
      "outputs": [
        {
          "output_type": "stream",
          "name": "stderr",
          "text": [
            "/usr/local/lib/python3.7/dist-packages/sklearn/utils/deprecation.py:87: FutureWarning: Function plot_roc_curve is deprecated; Function :func:`plot_roc_curve` is deprecated in 1.0 and will be removed in 1.2. Use one of the class methods: :meth:`sklearn.metric.RocCurveDisplay.from_predictions` or :meth:`sklearn.metric.RocCurveDisplay.from_estimator`.\n",
            "  warnings.warn(msg, category=FutureWarning)\n"
          ]
        },
        {
          "output_type": "execute_result",
          "data": {
            "text/plain": [
              "<sklearn.metrics._plot.roc_curve.RocCurveDisplay at 0x7f93109bdc10>"
            ]
          },
          "metadata": {},
          "execution_count": 61
        },
        {
          "output_type": "display_data",
          "data": {
            "text/plain": [
              "<Figure size 432x288 with 1 Axes>"
            ],
            "image/png": "[encoded data removed]"
          },
          "metadata": {
            "needs_background": "light"
          }
        }
      ]
    },
    {
      "cell_type": "markdown",
      "source": [
        "# **3-Decision Tree Classifier**"
      ],
      "metadata": {
        "id": "FRVmIPMIhRoN"
      }
    },
    {
      "cell_type": "code",
      "source": [
        "dtree=DecisionTreeClassifier()\n",
        "model_3=dtree.fit(X_train_val,Y_train_val)"
      ],
      "metadata": {
        "id": "JBTM8hpshHKX"
      },
      "execution_count": 31,
      "outputs": []
    },
    {
      "cell_type": "code",
      "source": [
        "dtree_predict=model_3.predict(bow_final_test_x)"
      ],
      "metadata": {
        "id": "BjW_jbJjhVG1"
      },
      "execution_count": 32,
      "outputs": []
    },
    {
      "cell_type": "code",
      "source": [
        "print('The accuracy of Decision Tree Classifier is: ', 100.0 * accuracy_score(dtree_predict,test_df_y))"
      ],
      "metadata": {
        "colab": {
          "base_uri": "https://localhost:8080/"
        },
        "id": "lieKKWRwxUAk",
        "outputId": "8f1c2c47-206e-4c34-982b-1ec706dec7e3"
      },
      "execution_count": 34,
      "outputs": [
        {
          "output_type": "stream",
          "name": "stdout",
          "text": [
            "The accuracy of Decision Tree Classifier is:  98.24662009522817\n"
          ]
        }
      ]
    },
    {
      "cell_type": "code",
      "source": [
        "print(classification_report(dtree_predict,test_df_y))"
      ],
      "metadata": {
        "colab": {
          "base_uri": "https://localhost:8080/"
        },
        "id": "gsoBomm-xlat",
        "outputId": "5d558cec-1544-4230-8265-50e8c075006d"
      },
      "execution_count": 36,
      "outputs": [
        {
          "output_type": "stream",
          "name": "stdout",
          "text": [
            "              precision    recall  f1-score   support\n",
            "\n",
            "           0       0.98      0.98      0.98     23903\n",
            "           1       0.99      0.98      0.99     33643\n",
            "\n",
            "    accuracy                           0.98     57546\n",
            "   macro avg       0.98      0.98      0.98     57546\n",
            "weighted avg       0.98      0.98      0.98     57546\n",
            "\n"
          ]
        }
      ]
    },
    {
      "cell_type": "code",
      "source": [
        "plot_roc_curve(model_3,bow_final_test_x, test_df_y)"
      ],
      "metadata": {
        "colab": {
          "base_uri": "https://localhost:8080/",
          "height": 351
        },
        "id": "ZpKfupsDAJqt",
        "outputId": "326c00d4-f04b-4d1c-cb69-f5a297369816"
      },
      "execution_count": 62,
      "outputs": [
        {
          "output_type": "stream",
          "name": "stderr",
          "text": [
            "/usr/local/lib/python3.7/dist-packages/sklearn/utils/deprecation.py:87: FutureWarning: Function plot_roc_curve is deprecated; Function :func:`plot_roc_curve` is deprecated in 1.0 and will be removed in 1.2. Use one of the class methods: :meth:`sklearn.metric.RocCurveDisplay.from_predictions` or :meth:`sklearn.metric.RocCurveDisplay.from_estimator`.\n",
            "  warnings.warn(msg, category=FutureWarning)\n"
          ]
        },
        {
          "output_type": "execute_result",
          "data": {
            "text/plain": [
              "<sklearn.metrics._plot.roc_curve.RocCurveDisplay at 0x7f930f76e7d0>"
            ]
          },
          "metadata": {},
          "execution_count": 62
        },
        {
          "output_type": "display_data",
          "data": {
            "text/plain": [
              "<Figure size 432x288 with 1 Axes>"
            ],
            "image/png": "[encoded data removed]"
          },
          "metadata": {
            "needs_background": "light"
          }
        }
      ]
    },
    {
      "cell_type": "markdown",
      "source": [
        "# **4-Random forest Classifier**"
      ],
      "metadata": {
        "id": "BX1Uf6zgmRJQ"
      }
    },
    {
      "cell_type": "code",
      "source": [
        "\n",
        "rfc=RandomForestClassifier()\n",
        "model_4=rfc.fit(X_train_val,Y_train_val)"
      ],
      "metadata": {
        "id": "fREPDnhkh_wU"
      },
      "execution_count": 37,
      "outputs": []
    },
    {
      "cell_type": "code",
      "source": [
        "rfc_predict=model_4.predict(bow_final_test_x)"
      ],
      "metadata": {
        "id": "kFL26kq8mV1B"
      },
      "execution_count": 38,
      "outputs": []
    },
    {
      "cell_type": "code",
      "source": [
        "print('The accuracy of Random Forest Classifier is: ' , 100.0 * accuracy_score(rfc_predict,test_df_y))"
      ],
      "metadata": {
        "id": "f6UO6wrZmYKp",
        "colab": {
          "base_uri": "https://localhost:8080/"
        },
        "outputId": "cca3c1bd-e9d6-4806-f750-8802ba40e840"
      },
      "execution_count": 40,
      "outputs": [
        {
          "output_type": "stream",
          "name": "stdout",
          "text": [
            "The accuracy of Random Forest Classifier is:  99.0772599311855\n"
          ]
        }
      ]
    },
    {
      "cell_type": "code",
      "source": [
        "print(classification_report(rfc_predict,test_df_y))"
      ],
      "metadata": {
        "id": "ELjpOrdvmZBX",
        "colab": {
          "base_uri": "https://localhost:8080/"
        },
        "outputId": "9f2a6f07-e17d-4654-9688-5d1924d34981"
      },
      "execution_count": 39,
      "outputs": [
        {
          "output_type": "stream",
          "name": "stdout",
          "text": [
            "              precision    recall  f1-score   support\n",
            "\n",
            "           0       0.99      0.99      0.99     23919\n",
            "           1       0.99      0.99      0.99     33627\n",
            "\n",
            "    accuracy                           0.99     57546\n",
            "   macro avg       0.99      0.99      0.99     57546\n",
            "weighted avg       0.99      0.99      0.99     57546\n",
            "\n"
          ]
        }
      ]
    },
    {
      "cell_type": "code",
      "source": [
        "plot_roc_curve(model_4,bow_final_test_x, test_df_y)"
      ],
      "metadata": {
        "colab": {
          "base_uri": "https://localhost:8080/",
          "height": 351
        },
        "id": "wocnhoceANAQ",
        "outputId": "a7bcc7cb-34c8-4695-e394-2a60ca450e1e"
      },
      "execution_count": 63,
      "outputs": [
        {
          "output_type": "stream",
          "name": "stderr",
          "text": [
            "/usr/local/lib/python3.7/dist-packages/sklearn/utils/deprecation.py:87: FutureWarning: Function plot_roc_curve is deprecated; Function :func:`plot_roc_curve` is deprecated in 1.0 and will be removed in 1.2. Use one of the class methods: :meth:`sklearn.metric.RocCurveDisplay.from_predictions` or :meth:`sklearn.metric.RocCurveDisplay.from_estimator`.\n",
            "  warnings.warn(msg, category=FutureWarning)\n"
          ]
        },
        {
          "output_type": "execute_result",
          "data": {
            "text/plain": [
              "<sklearn.metrics._plot.roc_curve.RocCurveDisplay at 0x7f930f598890>"
            ]
          },
          "metadata": {},
          "execution_count": 63
        },
        {
          "output_type": "display_data",
          "data": {
            "text/plain": [
              "<Figure size 432x288 with 1 Axes>"
            ],
            "image/png": "[encoded data removed]"
          },
          "metadata": {
            "needs_background": "light"
          }
        }
      ]
    },
    {
      "cell_type": "markdown",
      "source": [
        "# **5-SVM**"
      ],
      "metadata": {
        "id": "pTm-bwOMweGU"
      }
    },
    {
      "cell_type": "code",
      "source": [
        "svc=SVC()\n",
        "model_5=svc.fit(X_train_val,Y_train_val)"
      ],
      "metadata": {
        "id": "MnoWlmwcwhHE"
      },
      "execution_count": 41,
      "outputs": []
    },
    {
      "cell_type": "code",
      "source": [
        "svm_predict=model_5.predict(bow_final_test_x)"
      ],
      "metadata": {
        "id": "55Up-60FwoyN"
      },
      "execution_count": 42,
      "outputs": []
    },
    {
      "cell_type": "code",
      "source": [
        "print('The accuracy of SVM Classifier is: ', 100.0 * accuracy_score(svm_predict,test_df_y))"
      ],
      "metadata": {
        "colab": {
          "base_uri": "https://localhost:8080/"
        },
        "id": "xJ2HlO7ywyde",
        "outputId": "63295fc3-b43d-4996-d86f-e293c06254f3"
      },
      "execution_count": 43,
      "outputs": [
        {
          "output_type": "stream",
          "name": "stdout",
          "text": [
            "The accuracy of SVM Classifier is:  76.70211656761548\n"
          ]
        }
      ]
    },
    {
      "cell_type": "code",
      "source": [
        "print(classification_report(svm_predict,test_df_y))"
      ],
      "metadata": {
        "colab": {
          "base_uri": "https://localhost:8080/"
        },
        "id": "6AJoGV4Nw0JY",
        "outputId": "32bf36fe-cb46-49df-8318-f4869997ffb6"
      },
      "execution_count": 44,
      "outputs": [
        {
          "output_type": "stream",
          "name": "stdout",
          "text": [
            "              precision    recall  f1-score   support\n",
            "\n",
            "           0       0.69      0.73      0.71     22609\n",
            "           1       0.82      0.79      0.80     34937\n",
            "\n",
            "    accuracy                           0.77     57546\n",
            "   macro avg       0.76      0.76      0.76     57546\n",
            "weighted avg       0.77      0.77      0.77     57546\n",
            "\n"
          ]
        }
      ]
    },
    {
      "cell_type": "code",
      "source": [
        "plot_roc_curve(model_5,bow_final_test_x, test_df_y)"
      ],
      "metadata": {
        "colab": {
          "base_uri": "https://localhost:8080/",
          "height": 351
        },
        "id": "TaCE6lhcAQbE",
        "outputId": "4d96469b-dd55-427a-96a2-77a041da5117"
      },
      "execution_count": 64,
      "outputs": [
        {
          "output_type": "stream",
          "name": "stderr",
          "text": [
            "/usr/local/lib/python3.7/dist-packages/sklearn/utils/deprecation.py:87: FutureWarning: Function plot_roc_curve is deprecated; Function :func:`plot_roc_curve` is deprecated in 1.0 and will be removed in 1.2. Use one of the class methods: :meth:`sklearn.metric.RocCurveDisplay.from_predictions` or :meth:`sklearn.metric.RocCurveDisplay.from_estimator`.\n",
            "  warnings.warn(msg, category=FutureWarning)\n"
          ]
        },
        {
          "output_type": "execute_result",
          "data": {
            "text/plain": [
              "<sklearn.metrics._plot.roc_curve.RocCurveDisplay at 0x7f930f5b89d0>"
            ]
          },
          "metadata": {},
          "execution_count": 64
        },
        {
          "output_type": "display_data",
          "data": {
            "text/plain": [
              "<Figure size 432x288 with 1 Axes>"
            ],
            "image/png": "[encoded data removed]"
          },
          "metadata": {
            "needs_background": "light"
          }
        }
      ]
    },
    {
      "cell_type": "markdown",
      "source": [
        "# **Evaluation**"
      ],
      "metadata": {
        "id": "rGxTnkvQy7g7"
      }
    },
    {
      "cell_type": "code",
      "source": [
        "print('Logistic Regression Accuracy:',100 * accuracy_score(logreg_predict,test_df_y))\n",
        "print('K-Nearest Neighbour Accuracy:',100* accuracy_score(knn_predict,test_df_y))\n",
        "print('Decision Tree Classifier Accuracy:',100* accuracy_score(dtree_predict,test_df_y))\n",
        "print('Random Forest Classifier Accuracy:',100*accuracy_score(rfc_predict,test_df_y))\n",
        "print('support Vector Machine Accuracy:',100*accuracy_score(svm_predict,test_df_y))\n"
      ],
      "metadata": {
        "colab": {
          "base_uri": "https://localhost:8080/"
        },
        "id": "58gaf3_czDco",
        "outputId": "d4519805-bd78-495b-edb6-09a7ee13adb7"
      },
      "execution_count": 47,
      "outputs": [
        {
          "output_type": "stream",
          "name": "stdout",
          "text": [
            "Logistic Regression Accuracy: 72.54022868661593\n",
            "K-Nearest Neighbour Accuracy: 97.25263267646753\n",
            "Decision Tree Classifier Accuracy: 98.24662009522817\n",
            "Random Forest Classifier Accuracy: 99.0772599311855\n",
            "support Vector Machine Accuracy: 76.70211656761548\n"
          ]
        }
      ]
    }
  ]
}